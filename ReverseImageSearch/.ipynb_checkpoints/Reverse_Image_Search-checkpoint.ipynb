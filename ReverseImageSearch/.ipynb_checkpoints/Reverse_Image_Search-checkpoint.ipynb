{
 "cells": [
  {
   "cell_type": "markdown",
   "id": "807d6b6f",
   "metadata": {},
   "source": [
    "# REVERSE IMAGE SEARCH"
   ]
  },
  {
   "cell_type": "markdown",
   "id": "5521da4d-5978-4cb0-98ff-0ae6dded8ab4",
   "metadata": {},
   "source": [
    "## Importing Necessary Libraries"
   ]
  },
  {
   "cell_type": "code",
   "execution_count": 1,
   "id": "39d3e424",
   "metadata": {},
   "outputs": [],
   "source": [
    "import nest_asyncio\n",
    "nest_asyncio.apply()"
   ]
  },
  {
   "cell_type": "markdown",
   "id": "f3e7e06c",
   "metadata": {},
   "source": [
    "## Sourcing Image Based Datasets for Reverse Image Search"
   ]
  },
  {
   "cell_type": "code",
   "execution_count": 2,
   "id": "c06b456b",
   "metadata": {},
   "outputs": [],
   "source": [
    "import numpy as np\n",
    "from fastapi import FastAPI, UploadFile, File\n",
    "from fastapi.responses import HTMLResponse\n",
    "from fastapi.middleware.cors import CORSMiddleware\n",
    "import io\n",
    "import tensorflow as tf\n",
    "from sklearn.metrics.pairwise import cosine_similarity\n",
    "\n",
    "# Loading the Fashion MNIST data\n",
    "datasets = tf.keras.datasets.fashion_mnist\n",
    "(x_train_full, _), _ = datasets.load_data()\n",
    "x_train_full = x_train_full / 255.0  # Normalize\n",
    "\n",
    "# Function to compute similarity between images using cosine similarity\n",
    "def find_similar_images(query_img, database_imgs, top_n=5):\n",
    "    \"\"\"\n",
    "    Find top_n most similar images based on cosine similarity.\n",
    "    \"\"\"\n",
    "    similarities = cosine_similarity(query_img.reshape(1, -1), database_imgs.reshape(database_imgs.shape[0], -1))\n",
    "    top_indices = np.argsort(similarities[0])[-top_n:][::-1]\n",
    "    return top_indices\n",
    "\n",
    "app = FastAPI()\n",
    "\n",
    "# Enabling CORS for all origins for easy interaction with Jupyter Notebook\n",
    "app.add_middleware(\n",
    "    CORSMiddleware,\n",
    "    allow_origins=[\"*\"],\n",
    "    allow_credentials=True,\n",
    "    allow_methods=[\"*\"],\n",
    "    allow_headers=[\"*\"],\n",
    ")\n",
    "\n",
    "@app.post(\"/upload/\")\n",
    "async def upload_file(file: UploadFile = File(...)):\n",
    "    contents = await file.read()\n",
    "    image = tf.image.decode_image(contents, channels=1)\n",
    "    image = tf.image.resize(image, [28, 28])\n",
    "    image_array = np.array(image) / 255.0\n",
    "\n",
    "    similar_image_indices = find_similar_images(image_array, x_train_full)\n",
    "    # Returning the indices of similar images\n",
    "    return {\"similar_image_indices\": similar_image_indices.tolist()}\n"
   ]
  },
  {
   "cell_type": "markdown",
   "id": "6ba50aab",
   "metadata": {},
   "source": [
    "# Modify the API to return the images as base64 encoded strings."
   ]
  },
  {
   "cell_type": "code",
   "execution_count": 3,
   "id": "998821e9",
   "metadata": {},
   "outputs": [],
   "source": [
    "\n",
    "from fastapi.responses import HTMLResponse\n",
    "from PIL import Image\n",
    "import base64\n",
    "\n",
    "@app.post(\"/visualize/\")\n",
    "async def visualize_file(file: UploadFile = File(...)):\n",
    "    contents = await file.read()\n",
    "    \n",
    "    try:\n",
    "        image = tf.image.decode_image(contents, channels=1)\n",
    "        image = tf.image.resize(image, [28, 28])\n",
    "        image_array = np.array(image) / 255.0\n",
    "    \n",
    "        similar_image_indices = find_similar_images(image_array, x_train_full)\n",
    "        \n",
    "        # Convert similar images to base64 for rendering\n",
    "        output_images = []\n",
    "        for idx in similar_image_indices:\n",
    "            pil_img = Image.fromarray((x_train_full[idx] * 255).astype(np.uint8))\n",
    "            buffered = io.BytesIO()\n",
    "            pil_img.save(buffered, format=\"PNG\")\n",
    "            img_str = base64.b64encode(buffered.getvalue()).decode()\n",
    "            output_images.append(f\"data:image/png;base64,{img_str}\")\n",
    "            \n",
    "        # Create HTML content to display similar images\n",
    "        html_content = \"\"\n",
    "        for img in output_images:\n",
    "            html_content += f'<img src=\"{img}\" style=\"width: 100px; margin: 5px;\" />'\n",
    "        \n",
    "        return HTMLResponse(content=html_content)\n",
    "    \n",
    "    except Exception as e:\n",
    "        return JSONResponse(content={\"error\": \"Image processing failed!\"}, status_code=400)"
   ]
  },
  {
   "cell_type": "markdown",
   "id": "2391c50e",
   "metadata": {},
   "source": [
    "# Generating Open sourec API"
   ]
  },
  {
   "cell_type": "code",
   "execution_count": 4,
   "id": "ac9d84c4",
   "metadata": {},
   "outputs": [],
   "source": [
    "import nest_asyncio\n",
    "import threading\n",
    "import uvicorn\n",
    "\n",
    "nest_asyncio.apply()\n",
    "\n",
    "def run():\n",
    "    uvicorn.run(app, host='0.0.0.0', port=8000)\n",
    "\n",
    "t = threading.Thread(target=run)\n",
    "t.start()\n"
   ]
  },
  {
   "cell_type": "code",
   "execution_count": 5,
   "id": "30b2af1b",
   "metadata": {},
   "outputs": [],
   "source": [
    "from IPython.display import display, Image\n",
    "\n",
    "@app.post(\"/visualize/\")\n",
    "async def visualize_file(file: UploadFile = File(...)):\n",
    "    contents = await file.read()\n",
    "    \n",
    "    try:\n",
    "        image = tf.image.decode_image(contents, channels=1)\n",
    "        image = tf.image.resize(image, [28, 28])\n",
    "        image_array = np.array(image) / 255.0\n",
    "    \n",
    "        similar_image_indices = find_similar_images(image_array, x_train_full)\n",
    "        \n",
    "        # Display similar images within Jupyter\n",
    "        for idx in similar_image_indices:\n",
    "            pil_img = Image.fromarray((x_train_full[idx] * 255).astype(np.uint8))\n",
    "            display(pil_img)\n",
    "    \n",
    "    except Exception as e:\n",
    "        return {\"error\": \"Image processing failed!\"}\n"
   ]
  },
  {
   "cell_type": "markdown",
   "id": "ae1e466c",
   "metadata": {},
   "source": [
    "## VISUALIZATION"
   ]
  },
  {
   "cell_type": "code",
   "execution_count": 6,
   "id": "55562353",
   "metadata": {},
   "outputs": [
    {
     "name": "stderr",
     "output_type": "stream",
     "text": [
      "INFO:     Started server process [22216]\n",
      "INFO:     Waiting for application startup.\n",
      "INFO:     Application startup complete.\n",
      "INFO:     Uvicorn running on http://0.0.0.0:8000 (Press CTRL+C to quit)\n"
     ]
    },
    {
     "data": {
      "image/png": "[encoded data removed]",
      "text/plain": [
       "<Figure size 2000x2000 with 6 Axes>"
      ]
     },
     "metadata": {},
     "output_type": "display_data"
    }
   ],
   "source": [
    "import matplotlib.pyplot as plt\n",
    "import random\n",
    "\n",
    "# Function to display the query image and its similar images\n",
    "def display_similar_images_for_dataset_image(index=None):\n",
    "    # If no index is provided, choose a random image\n",
    "    if index is None:\n",
    "        index = random.randint(0, x_train_full.shape[0] - 1)\n",
    "\n",
    "    query_image = x_train_full[index]\n",
    "    similar_image_indices = find_similar_images(query_image, x_train_full)\n",
    "    \n",
    "    # Display the images\n",
    "    fig, axes = plt.subplots(1, len(similar_image_indices) + 1, figsize=(20, 20),\n",
    "                             subplot_kw={'xticks':[], 'yticks':[]},\n",
    "                             gridspec_kw=dict(hspace=0.1, wspace=0.1))\n",
    "    ax = axes.flat[0]\n",
    "    ax.imshow(query_image, cmap='binary')\n",
    "    ax.set_title(\"Query Image\")\n",
    "    \n",
    "    for i, ax in enumerate(axes.flat[1:]):\n",
    "        ax.imshow(x_train_full[similar_image_indices[i]], cmap='binary')\n",
    "        ax.set_title(f\"Similar Image {i+1}\")\n",
    "\n",
    "    plt.show()\n",
    "\n",
    "# Call the function\n",
    "display_similar_images_for_dataset_image()\n"
   ]
  },
  {
   "cell_type": "code",
   "execution_count": null,
   "id": "d73ac4b2",
   "metadata": {},
   "outputs": [],
   "source": []
  }
 ],
 "metadata": {
  "kernelspec": {
   "display_name": "Python 3 (ipykernel)",
   "language": "python",
   "name": "python3"
  },
  "language_info": {
   "codemirror_mode": {
    "name": "ipython",
    "version": 3
   },
   "file_extension": ".py",
   "mimetype": "text/x-python",
   "name": "python",
   "nbconvert_exporter": "python",
   "pygments_lexer": "ipython3",
   "version": "3.10.7"
  }
 },
 "nbformat": 4,
 "nbformat_minor": 5
}
